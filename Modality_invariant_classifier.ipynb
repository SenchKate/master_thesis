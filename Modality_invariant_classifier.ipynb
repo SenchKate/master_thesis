{
 "cells": [
  {
   "cell_type": "markdown",
   "metadata": {
    "id": "50t66H-5Vmbo"
   },
   "source": [
    "# Libraries"
   ]
  },
  {
   "cell_type": "code",
   "execution_count": 5,
   "metadata": {
    "colab": {
     "base_uri": "https://localhost:8080/"
    },
    "id": "sCJhH9Rb3SwZ",
    "outputId": "739f4a01-820c-41c2-e235-7468767d4748"
   },
   "outputs": [
    {
     "name": "stdout",
     "output_type": "stream",
     "text": [
      "Looking in indexes: https://pypi.org/simple, https://us-python.pkg.dev/colab-wheels/public/simple/\n",
      "Collecting rasterio\n",
      "  Downloading rasterio-1.3.6-cp39-cp39-manylinux_2_17_x86_64.manylinux2014_x86_64.whl (20.1 MB)\n",
      "\u001b[2K     \u001b[90m━━━━━━━━━━━━━━━━━━━━━━━━━━━━━━━━━━━━━━━━\u001b[0m \u001b[32m20.1/20.1 MB\u001b[0m \u001b[31m55.5 MB/s\u001b[0m eta \u001b[36m0:00:00\u001b[0m\n",
      "\u001b[?25hRequirement already satisfied: setuptools in /usr/local/lib/python3.9/dist-packages (from rasterio) (63.4.3)\n",
      "Requirement already satisfied: click>=4.0 in /usr/local/lib/python3.9/dist-packages (from rasterio) (8.1.3)\n",
      "Requirement already satisfied: certifi in /usr/local/lib/python3.9/dist-packages (from rasterio) (2022.12.7)\n",
      "Requirement already satisfied: attrs in /usr/local/lib/python3.9/dist-packages (from rasterio) (22.2.0)\n",
      "Collecting cligj>=0.5\n",
      "  Downloading cligj-0.7.2-py3-none-any.whl (7.1 kB)\n",
      "Collecting snuggs>=1.4.1\n",
      "  Downloading snuggs-1.4.7-py3-none-any.whl (5.4 kB)\n",
      "Collecting affine\n",
      "  Downloading affine-2.4.0-py3-none-any.whl (15 kB)\n",
      "Requirement already satisfied: numpy>=1.18 in /usr/local/lib/python3.9/dist-packages (from rasterio) (1.22.4)\n",
      "Collecting click-plugins\n",
      "  Downloading click_plugins-1.1.1-py2.py3-none-any.whl (7.5 kB)\n",
      "Requirement already satisfied: pyparsing>=2.1.6 in /usr/local/lib/python3.9/dist-packages (from snuggs>=1.4.1->rasterio) (3.0.9)\n",
      "Installing collected packages: snuggs, cligj, click-plugins, affine, rasterio\n",
      "Successfully installed affine-2.4.0 click-plugins-1.1.1 cligj-0.7.2 rasterio-1.3.6 snuggs-1.4.7\n",
      "Looking in indexes: https://pypi.org/simple, https://us-python.pkg.dev/colab-wheels/public/simple/\n",
      "Collecting tensorflow_addons\n",
      "  Downloading tensorflow_addons-0.19.0-cp39-cp39-manylinux_2_17_x86_64.manylinux2014_x86_64.whl (1.1 MB)\n",
      "\u001b[2K     \u001b[90m━━━━━━━━━━━━━━━━━━━━━━━━━━━━━━━━━━━━━━━━\u001b[0m \u001b[32m1.1/1.1 MB\u001b[0m \u001b[31m14.4 MB/s\u001b[0m eta \u001b[36m0:00:00\u001b[0m\n",
      "\u001b[?25hRequirement already satisfied: packaging in /usr/local/lib/python3.9/dist-packages (from tensorflow_addons) (23.0)\n",
      "Collecting typeguard>=2.7\n",
      "  Downloading typeguard-3.0.1-py3-none-any.whl (30 kB)\n",
      "Requirement already satisfied: importlib-metadata>=3.6 in /usr/local/lib/python3.9/dist-packages (from typeguard>=2.7->tensorflow_addons) (6.0.0)\n",
      "Requirement already satisfied: typing-extensions>=4.4.0 in /usr/local/lib/python3.9/dist-packages (from typeguard>=2.7->tensorflow_addons) (4.5.0)\n",
      "Requirement already satisfied: zipp>=0.5 in /usr/local/lib/python3.9/dist-packages (from importlib-metadata>=3.6->typeguard>=2.7->tensorflow_addons) (3.15.0)\n",
      "Installing collected packages: typeguard, tensorflow_addons\n",
      "Successfully installed tensorflow_addons-0.19.0 typeguard-3.0.1\n"
     ]
    }
   ],
   "source": [
    "!pip install rasterio\n",
    "!pip install tensorflow_addons\n",
    "\n",
    "import tensorflow as tf\n",
    "import pickle as cPickle\n",
    "import numpy as np\n",
    "from sklearn.preprocessing import LabelBinarizer\n",
    "from sklearn.metrics.pairwise import cosine_similarity\n",
    "from sklearn.manifold import TSNE\n",
    "import matplotlib.pyplot as plt\n",
    "import csv\n",
    "from tensorflow.keras.models import Model\n",
    "import os\n",
    "from tensorflow.keras.utils import load_img\n",
    "from tensorflow.keras.utils import img_to_array\n",
    "import absl.logging\n",
    "absl.logging.set_verbosity(absl.logging.ERROR)\n",
    "from csv import writer\n",
    "np.warnings.filterwarnings('ignore', category=np.VisibleDeprecationWarning)\n",
    "import tensorflow_addons as tfa\n",
    "\n",
    "\n",
    "import rasterio\n",
    "from rasterio.plot import show\n",
    "import tifffile as tiff \n",
    "\n",
    "from tensorflow.keras.models import Sequential\n",
    "from tensorflow.keras.layers import Dense, Conv2D, Flatten\n",
    "\n",
    "\n",
    "from sklearn.metrics import confusion_matrix\n",
    "import pandas as pd\n",
    "import seaborn as sns\n",
    "import scipy"
   ]
  },
  {
   "cell_type": "markdown",
   "metadata": {
    "id": "n0CsVYxkvOsr"
   },
   "source": [
    "# Models"
   ]
  },
  {
   "cell_type": "code",
   "execution_count": 6,
   "metadata": {
    "id": "gd0EJJX9vfYD"
   },
   "outputs": [],
   "source": [
    "#model to merge S1 modality\n",
    "class S1FeatureEmbed(tf.keras.Model):\n",
    "\n",
    "    def __init__(self):\n",
    "    super().__init__()\n",
    "    self.standardize = tf.keras.layers.BatchNormalization()\n",
    "    self.dense1 = tf.keras.layers.Dense(semantic_emb_dim*2, activation=tf.keras.activations.relu)\n",
    "    self.dense2 = tf.keras.layers.Dense(semantic_emb_dim*2, activation=tf.keras.activations.relu)\n",
    "    self.dense3 = tf.keras.layers.Dense(semantic_emb_dim*2, activation=tf.keras.activations.relu)\n",
    "    self.dense4 = tf.keras.layers.Dense(semantic_emb_dim*2, activation=tf.keras.activations.relu)\n",
    "    self.dense5 = tf.keras.layers.Dense(int(semantic_emb_dim*1.5),activation=tf.keras.activations.relu)\n",
    "    self.dense6 = tf.keras.layers.Dense(int(semantic_emb_dim*1.5),activation=tf.keras.activations.relu)\n",
    "    self.dense7 = tf.keras.layers.Dense(semantic_emb_dim,activation=tf.keras.activations.relu)\n",
    "    self.dense8 = tf.keras.layers.Dense(1024,activation=tf.keras.activations.relu)\n",
    "\n",
    "    def call(self, x):\n",
    "        x = self.standardize(x)\n",
    "        x = self.dense1(x)\n",
    "        x = self.dense2(x)\n",
    "        x = self.dense3(x)\n",
    "        x = self.dense4(x)\n",
    "        x = self.dense5(x)\n",
    "        x = self.dense6(x)\n",
    "        x = self.dense7(x)\n",
    "        return self.dense8(x)\n",
    "\n",
    "\n",
    "#model to merge S2 modality\n",
    "class S2FeatureEmbed(tf.keras.Model):\n",
    "\n",
    "    def __init__(self):\n",
    "    super().__init__()\n",
    "    self.standardize = tf.keras.layers.BatchNormalization()\n",
    "    self.dense1 = tf.keras.layers.Dense(semantic_emb_dim*2,activation=tf.keras.activations.relu)\n",
    "    self.dense2 = tf.keras.layers.Dense(semantic_emb_dim*2,activation=tf.keras.activations.relu)\n",
    "    self.dense3 = tf.keras.layers.Dense(semantic_emb_dim*2,activation=tf.keras.activations.relu)\n",
    "    self.dense4 = tf.keras.layers.Dense(semantic_emb_dim*2,activation=tf.keras.activations.relu)\n",
    "    self.dense5 = tf.keras.layers.Dense(semantic_emb_dim*2,activation=tf.keras.activations.relu)\n",
    "    self.dense6 = tf.keras.layers.Dense(int(semantic_emb_dim*1.5),activation=tf.keras.activations.relu)\n",
    "    self.dense7 = tf.keras.layers.Dense(int(semantic_emb_dim*1.5),activation=tf.keras.activations.relu)\n",
    "    self.dense8 = tf.keras.layers.Dense(int(semantic_emb_dim*1.5),activation=tf.keras.activations.relu)\n",
    "    self.dense9 = tf.keras.layers.Dense(semantic_emb_dim,activation=tf.keras.activations.relu)\n",
    "    self.dense10 = tf.keras.layers.Dense(1024,activation=tf.keras.activations.relu)\n",
    "\n",
    "    def call(self, x):\n",
    "        x = self.standardize(x)\n",
    "        x = self.dense1(x)\n",
    "        x = self.dense2(x)\n",
    "        x = self.dense3(x)\n",
    "        x = self.dense4(x)\n",
    "        x = self.dense5(x)\n",
    "        x = self.dense6(x)\n",
    "        x = self.dense7(x)\n",
    "        x = self.dense8(x)\n",
    "        x = self.dense9(x)\n",
    "        return self.dense10(x)\n",
    "\n",
    "\n",
    "# model to predict the labels \n",
    "class LabelClassifier(tf.keras.Model):\n",
    "\n",
    "    def __init__(self):\n",
    "        super().__init__()\n",
    "        self.dense1 = tf.keras.layers.Dense(2048,activation=tf.keras.activations.relu)\n",
    "        self.dense2 = tf.keras.layers.Dense(1024,activation=tf.keras.activations.relu)\n",
    "        self.dense3 = tf.keras.layers.Dense(1024,activation=tf.keras.activations.relu)\n",
    "        self.dense4 = tf.keras.layers.Dense(1024,activation=tf.keras.activations.relu)\n",
    "        self.dense5 = tf.keras.layers.Dense(512,activation=tf.keras.activations.relu)\n",
    "        self.dense6 = tf.keras.layers.Dense(512,activation=tf.keras.activations.relu)\n",
    "        self.dense7 = tf.keras.layers.Dense(10,activation=tf.keras.activations.softmax)\n",
    "\n",
    "    def call(self, x):\n",
    "        x = self.dense1(x)\n",
    "        x = self.dense2(x)\n",
    "        x = self.dense3(x)\n",
    "        x = self.dense4(x)\n",
    "        x = self.dense5(x)\n",
    "        x = self.dense6(x)\n",
    "        return self.dense7(x)\n",
    "\n",
    "# flip gradiant model\n",
    "class FlipGradientBuilder(object):\n",
    "    def __init__(self):\n",
    "        pass\n",
    "\n",
    "    def __call__(self, x,lr =1.0):\n",
    "        param = lr\n",
    "        @tf.custom_gradient\n",
    "        def grad_reverse(x):\n",
    "            #y = tf.identity(x)\n",
    "            def custom_grad(dy):\n",
    "                return -dy*param\n",
    "            return x, custom_grad\n",
    "        return grad_reverse(x)\n",
    "\n",
    "\n",
    "#model to classify the type of modalities\n",
    "class ModalityClassifier(tf.keras.Model):\n",
    "\n",
    "    def __init__(self):\n",
    "        super().__init__()\n",
    "        self.standardize = tf.keras.layers.BatchNormalization()\n",
    "\n",
    "        self.flip = FlipGradientBuilder()\n",
    "        self.dropout= tf.keras.layers.Dropout(0.7)\n",
    "        self.dense1 = tf.keras.layers.Dense(int(semantic_emb_dim/2))\n",
    "        self.dense2 = tf.keras.layers.Dense(int(semantic_emb_dim/2))\n",
    "        self.dense3 = tf.keras.layers.Dense(int(semantic_emb_dim/2))\n",
    "        self.dense4 = tf.keras.layers.Dense(2)\n",
    "\n",
    "    def call(self, x, lr=1.0, training= False):\n",
    "        x = self.flip(x,lr)\n",
    "        if training:\n",
    "            x = self.dropout(x)\n",
    "        x = self.dense1(x)\n",
    "        x = self.dense2(x)\n",
    "        x = self.dense3(x)\n",
    "        return self.dense4(x)\n"
   ]
  },
  {
   "cell_type": "code",
   "execution_count": 7,
   "metadata": {
    "id": "gB-jo4lLT1hV"
   },
   "outputs": [],
   "source": [
    "#baseline for S2 modality\n",
    "class BaseLineS2(tf.keras.Model):\n",
    "\n",
    "    def __init__(self):\n",
    "        super().__init__()\n",
    "        self.emb = S2FeatureEmbed()\n",
    "        self.emb._name = 's2_emb'\n",
    "        self.classfier  = LabelClassifier()\n",
    "\n",
    "\n",
    "    def call(self, x):\n",
    "        x = self.emb(x)\n",
    "        return self.classfier(x)\n",
    "\n",
    "#baseline for S1 modality\n",
    "class BaseLineS1(tf.keras.Model):\n",
    "\n",
    "    def __init__(self):\n",
    "        super().__init__()\n",
    "        self.emb = S1FeatureEmbed()\n",
    "        self.emb._name = 's1_emb'\n",
    "        self.classfier  = LabelClassifier()\n",
    "\n",
    "\n",
    "    def call(self, x):\n",
    "        x = self.emb(x)\n",
    "        return self.classfier(x)"
   ]
  },
  {
   "cell_type": "code",
   "execution_count": 8,
   "metadata": {
    "id": "Wt_SjT593LAF"
   },
   "outputs": [],
   "source": [
    "#feature extraction model \n",
    "def getResModel_remote(input_shape):\n",
    "\n",
    "    model = Sequential()\n",
    "    model.add(tf.keras.layers.BatchNormalization())\n",
    "    model.add(tf.keras.applications.ResNet50(\n",
    "    include_top=False,\n",
    "    input_shape=input_shape,\n",
    "        weights =None,\n",
    "        classes=10,))\n",
    "    model.add(Flatten())\n",
    "    model.add(Dense(units=2048,activation=\"relu\"))\n",
    "    model.add(tf.keras.layers.BatchNormalization())\n",
    "    model.add(Dense(units=2048,activation=\"relu\", name=\"fc2\"))\n",
    "    model.add(tf.keras.layers.BatchNormalization())\n",
    "    model.add(Dense(units=10, activation=\"softmax\"))\n",
    "\n",
    "    return model"
   ]
  },
  {
   "cell_type": "markdown",
   "metadata": {
    "id": "KZf-60f9VoZa"
   },
   "source": [
    "# Functions for training"
   ]
  },
  {
   "cell_type": "code",
   "execution_count": 9,
   "metadata": {
    "id": "6Wc-sSdWEJLk"
   },
   "outputs": [],
   "source": [
    "#files to find the feature space for each modality\n",
    "data_info =[{\n",
    "  #train feature space for s2\n",
    "  \"address\":\"s2_feature_res_train.csv\",\n",
    "  \"type_data\":\"csv\"\n",
    "},\n",
    "{\n",
    "  #train feature space for s1\n",
    "  \"address\": \"s1_feature_train.csv\",\n",
    "  \"type_data\":\"csv\"\n",
    "},\n",
    "{\n",
    "    #train labels\n",
    "  \"address\": \"train_labels.csv\",\n",
    "  \"type_data\": \"csv\"\n",
    "},\n",
    "{\n",
    "    #test feature space for s2\n",
    "  \"address\":\"s2_feature_res_test.csv\",\n",
    "  \"type_data\": \"csv\"\n",
    "},\n",
    "{\n",
    "    #test feature space for s1\n",
    "  \"address\": \"s1_feature_test.csv\",\n",
    "  \"type_data\": \"csv\"\n",
    "},\n",
    "{\n",
    "    #test labels\n",
    "  \"address\": \"test_labels.csv\",\n",
    "  \"type_data\": \"csv\"\n",
    "} ]"
   ]
  },
  {
   "cell_type": "code",
   "execution_count": 10,
   "metadata": {
    "id": "J0446hqEw6Hi"
   },
   "outputs": [],
   "source": [
    "epoch = 50\n",
    "margin = .1\n",
    "alphtxt2imga = 5\n",
    "alpha = 1\n",
    "batch_size = 64\n",
    "visual_feat_dim = 2048\n",
    "word_vec_dim = 2048\n",
    "lr_total = 0.0001\n",
    "lr_emb = 0.0001\n",
    "lr_domain = 0.0001\n",
    "top_k = 50\n",
    "semantic_emb_dim = 1024\n",
    "\n",
    "\n",
    "classifier_optimizer =tf.keras.optimizers.Adam(learning_rate=lr_emb, beta_1=0.5)\n",
    "tripple_optimizer_s2 =tf.keras.optimizers.Adam(learning_rate=lr_emb, beta_1=0.5)\n",
    "tripple_optimizer_s1 =tf.keras.optimizers.Adam(learning_rate=lr_emb, beta_1=0.5)\n",
    "modality_optimizer =tf.keras.optimizers.Adam(learning_rate=lr_domain, beta_1=0.5)\n",
    "precision = tf.keras.metrics.CategoricalAccuracy(name='train_accuracy')\n",
    "modality_loss = tf.keras.metrics.Mean(name='modality_loss')\n",
    "emb_fin__loss = tf.keras.metrics.Mean(name='emb_loss')\n",
    "label_fin_loss = tf.keras.metrics.Mean(name='label_loss')\n",
    "triple_fin_loss = tf.keras.metrics.Mean(name='triple_loss')\n",
    "metric = tfa.metrics.F1Score(num_classes=10, threshold=0.3, average = \"macro\")"
   ]
  },
  {
   "cell_type": "code",
   "execution_count": 11,
   "metadata": {
    "id": "Jj6JCKaAVvUh"
   },
   "outputs": [],
   "source": [
    "\"\"\"\n",
    "this function reads the fine and return numpy array of correct format\n",
    "Arguements:\n",
    "  address : the address string\n",
    "  data_type : datatype of the file to be read\n",
    "  type_save : the format of the elements in numpy array\n",
    "  start_line : the start line to be read in the initial file\n",
    "  end_line : the end line to be read in the initial file\n",
    "\"\"\"\n",
    "def read_data(address, data_type, type_save=float, start_line=0, end_line=0):\n",
    "    # if the file is in pkl format, then it is all read\n",
    "    if data_type == \"pkl\":\n",
    "    with open(address, 'rb') as f:\n",
    "            return np.array(cPickle.load(f, encoding=\"latin-1\"))\n",
    "    else:\n",
    "        # if the file is in other format, then we read it line by line\n",
    "        data =[]\n",
    "        count = start_line\n",
    "        with open(address) as file_obj:\n",
    "            reader_obj = csv.reader(file_obj)\n",
    "            for i , row in enumerate(reader_obj):\n",
    "                if i<start_line:\n",
    "                    continue\n",
    "                    if type_save is str:\n",
    "                    data.append(\"\".join(row))\n",
    "                else:\n",
    "                    data.append(row)\n",
    "                    if end_line>0:\n",
    "                        if count==end_line:\n",
    "                            break\n",
    "                        else:\n",
    "                            count += 1\n",
    "\n",
    "    return np.array(data).astype(type_save)"
   ]
  },
  {
   "cell_type": "code",
   "execution_count": 12,
   "metadata": {
    "id": "dOY4Jd5Ez6AL"
   },
   "outputs": [],
   "source": [
    "\"\"\"\n",
    "Save extracted features\n",
    "Arguements:\n",
    "  model : the model for feature extraction\n",
    "  layer : layer of the feature space\n",
    "  source_file : the path where the the initial files are saved\n",
    "  dist_file : the file where the extracted features should be saved\n",
    "\"\"\"\n",
    "def save_representation(model, layer, source_file, dist_file):\n",
    "    count =0\n",
    "    data =[]\n",
    "    feature_model = Model(model.input,model.get_layer(layer).output)\n",
    "    with open(source_file) as file_obj:\n",
    "    reader_obj = csv.reader(file_obj)\n",
    "    for row in reader_obj:\n",
    "        image = np.array(row).reshape((1,224,224,3))\n",
    "        image = np.nan_to_num(image)\n",
    "        image= image.astype(float)\n",
    "        count +=1\n",
    "        print(count)\n",
    "        second_feature = list(feature_model.predict(image)[0].astype(float))\n",
    "        with open(dist_file, \"a\") as f:\n",
    "            writer_object = csv.writer(f)\n",
    "            writer_object.writerow(second_feature)\n",
    "            f.close()"
   ]
  },
  {
   "cell_type": "code",
   "execution_count": 13,
   "metadata": {
    "id": "p4ISi0OZDykI"
   },
   "outputs": [],
   "source": [
    "#define initial weights for the model to work with disbalanced data\n",
    "def define_initial_weights():\n",
    "    dic_data = read_data(\"IGBP_probability_labels.pkl\", \"pkl\")\n",
    "    dic_data = dic_data.reshape((-1,))\n",
    "    winter_key = np.array([x for x in np.array(list(dic_data[0].keys())).\\\n",
    "                         reshape((-1,)) if \"winter\" in x])\n",
    "    for key in winter_key:\n",
    "        dic_data[0][key]= simpl_igbp(dic_data[0][key])\n",
    "    train_files = read_data(\"train_files.csv\", \"csv\", type_save=str)\n",
    "    label = np.array([np.argmax(dic_data[0][x]) for x in train_files])\n",
    "    un, count = np.unique(label,return_counts=True)\n",
    "    un = np.insert(un, 7, 7)\n",
    "    count = np.insert(count, 7, 1)\n",
    "    total = np.sum(count)\n",
    "    weights = [(1 / x) * (total / 4) for x in count]\n",
    "    initial_weghts={}\n",
    "    for i,l in enumerate(un):\n",
    "        initial_weghts.update({i: weights[i]})\n",
    "    return initial_weghts"
   ]
  },
  {
   "cell_type": "code",
   "execution_count": 14,
   "metadata": {
    "id": "eMsIJE9t5EAZ"
   },
   "outputs": [],
   "source": [
    "\"\"\"\n",
    "the function changes the name to get the namme of different modality\n",
    "\"\"\"\n",
    "def name_transformer(name):\n",
    "    compon = name.split(\"_\")\n",
    "    if \"s1\" in name:\n",
    "        compon =  ['s2' if x == 's1' else x for x in compon]\n",
    "    elif \"s2\" in name:\n",
    "        compon =  ['s1' if x == 's2' else x for x in compon]\n",
    "    return \"_\".join(compon)"
   ]
  },
  {
   "cell_type": "code",
   "execution_count": 15,
   "metadata": {
    "id": "Qa1yGR-Y51IR"
   },
   "outputs": [],
   "source": [
    "\"\"\"\n",
    "get from the full scheme the simplified one\n",
    "\"\"\"\n",
    "def simpl_igbp(igbp):\n",
    "    _igbp1 = sum(igbp[0:5]);\n",
    "    _igbp2 = sum(igbp[5:7]); \n",
    "    _igbp3 = sum(igbp[7:9]);\n",
    "    _igbp6 = igbp[11] + igbp[13];\n",
    "    return np.asarray([_igbp1, _igbp2, _igbp3, igbp[9], igbp[10], _igbp6, \n",
    "                     igbp[12], igbp[14], igbp[15], igbp[16]])"
   ]
  },
  {
   "cell_type": "code",
   "execution_count": 16,
   "metadata": {
    "id": "LfTR_55BZ-8F"
   },
   "outputs": [],
   "source": [
    "\"\"\"\n",
    "converts the initial features in the format needed for ACMR analysis\n",
    "Arguements:\n",
    "  s2_features: features for s2 sattelite\n",
    "  s1_features : features for s1 sattelite\n",
    "  labels: initial labels\n",
    "Return: \n",
    "  pos_s2: coupled the same s2 samples\n",
    "  pos_s1: coupled the same s1 samples\n",
    "  neg_s2: coupled the negative  s2 samples\n",
    "  neg_s1: coupled the negative  s1 samples\n",
    "\n",
    "\"\"\"\n",
    "def preprocessing(s2_features, s1_features, labels):\n",
    "    #calculate similarity matrix\n",
    "    pos_s1 = s1_features\n",
    "    pos_s2 = s2_features\n",
    "    adj_mat = np.dot(labels,np.transpose(labels)) \n",
    "    min_max = np.min(adj_mat, axis = 0)\n",
    "    for i in range(len(min_max)):\n",
    "    t_m = adj_mat[:,i]\n",
    "    adj_mat[t_m>min_max[i],i]= 1\n",
    "    mask_mat = np.ones_like(adj_mat) - adj_mat\n",
    "    s2_sim_mat = mask_mat*cosine_similarity(s2_features,s2_features)\n",
    "    s1_sim_mat = mask_mat*cosine_similarity(s1_features,s1_features)\n",
    "    #most similar images with different labels\n",
    "    s2_neg_idx = np.argmax(s2_sim_mat,axis=1).astype(int)\n",
    "    s1_neg_idx = np.argmax(s1_sim_mat,axis=0).astype(int)\n",
    "    s2_features_ = np.array(s2_features)\n",
    "    s1_features_ = np.array(s1_features)                \n",
    "    neg_s2 =  s2_features_[s1_neg_idx,:]\n",
    "    neg_s1 = s1_features_[s2_neg_idx,:]\n",
    "\n",
    "    return tf.convert_to_tensor(pos_s2),tf.convert_to_tensor(pos_s1),\\\n",
    "                tf.convert_to_tensor(neg_s2),tf.convert_to_tensor(neg_s1)"
   ]
  },
  {
   "cell_type": "code",
   "execution_count": 17,
   "metadata": {
    "id": "GJxt657rel3-"
   },
   "outputs": [],
   "source": [
    "\"\"\"\n",
    "one step of ACMR for training. The function uses models which are defined later on:\n",
    "            s2_feature_embed,s1_feature_embed, label_classifier, modality_classifier\n",
    "Arguements:\n",
    "  merged: merged features formated for ACMR analysis\n",
    "  y : labels\n",
    "  label_method : method to calculate the label loss\n",
    "  modality_method: loss function modality classification\n",
    "  epoch : the run epoch\n",
    "  not_skip_index_triple : on which epoch triplet constrain should be modified\n",
    "  not_skip_index_modality: on which epoch modality classifier should be modified\n",
    "  l : the hyperparameter for inverse gradiant\n",
    "\n",
    "\"\"\"\n",
    "@tf.function\n",
    "def ACMR_train_step(merged, y, label_method, modality_method, epoch=0, \n",
    "                    not_skip_index_triple = 4, not_skip_index_modality = 4, l=1.0):\n",
    "    #extract merged features\n",
    "    pos_s2 = merged[:,:pos_s2_dim]\n",
    "    tar_s2 = merged[:,:pos_s2_dim]\n",
    "    pos_s1 = merged[:,pos_s2_dim:pos_s2_dim+pos_s1_dim]\n",
    "    tar_s1 = merged[:,pos_s2_dim:pos_s2_dim+pos_s1_dim]\n",
    "    neg_s2 = merged[:, pos_s2_dim+pos_s1_dim:pos_s2_dim+pos_s1_dim+neg_s2_dim]\n",
    "    neg_s1 = merged[:, -neg_s1_dim:]\n",
    "\n",
    "    with tf.GradientTape() as classifier, \\\n",
    "    tf.GradientTape() as modality, tf.GradientTape() as tripple_s2, \\\n",
    "    tf.GradientTape() as tripple_s1:\n",
    "\n",
    "        emb_s2_pos = s2_feature_embed(pos_s2)\n",
    "        emb_tar_s2 = s2_feature_embed(tar_s2)\n",
    "        emb_s2_neg = s2_feature_embed(neg_s2)\n",
    "        emb_s1_pos = s1_feature_embed(pos_s1)\n",
    "        emb_tar_s1 = s1_feature_embed(tar_s1)\n",
    "        emb_s1_neg = s1_feature_embed(neg_s1)\n",
    "        s2_loss_pos = tf.math.reduce_sum(tf.nn.l2_loss(emb_tar_s2 - emb_s1_pos))\n",
    "        s2_loss_neg = tf.math.reduce_sum(tf.nn.l2_loss(emb_tar_s2 - emb_s1_neg))\n",
    "        s1_loss_pos = tf.math.reduce_sum(tf.nn.l2_loss(emb_tar_s1 - emb_s2_pos))\n",
    "        s1_loss_neg = tf.math.reduce_sum(tf.nn.l2_loss(emb_tar_s1 - emb_s2_neg))\n",
    "        loss_triple = tf.math.maximum(0.,margin + alpha*s2_loss_pos-s2_loss_neg) +\\\n",
    "                                          tf.math.maximum(0.,margin + alpha*s1_loss_pos-s1_loss_neg)\n",
    "        \n",
    "        logits_s2 = label_classifier(emb_tar_s2)\n",
    "        logits_s1 = label_classifier(emb_tar_s1)\n",
    "        \n",
    "        if label_method == \"softmax\":\n",
    "            label_loss =  tf.math.reduce_mean(tf.nn.softmax_cross_entropy_with_logits(labels=y, logits=logits_s2) + \\\n",
    "                      tf.nn.softmax_cross_entropy_with_logits(labels=y, logits=logits_s1))\n",
    "        elif label_method==\"kl_diverence\":\n",
    "            label_loss =  tf.math.reduce_mean(tf.keras.losses.KLDivergence(reduction=tf.keras.losses.Reduction.NONE)(y_true=y, y_pred=logits_s2) + \\\n",
    "                    tf.keras.losses.KLDivergence(reduction=tf.keras.losses.Reduction.NONE)(y_true=y, y_pred=logits_s1))\n",
    "        elif label_method == \"mixed\":\n",
    "            if epoch%not_skip_index_triple==0:\n",
    "                label_loss =  tf.math.reduce_mean(tf.keras.losses.KLDivergence()(y_true=y, y_pred=logits_s2) + \\\n",
    "                        tf.keras.losses.KLDivergence()(y_true=y, y_pred=logits_s1))\n",
    "            else:\n",
    "                label_loss =  tf.math.reduce_mean(tf.keras.losses.KLDivergence()(y_true=y, y_pred=logits_s2) + \\\n",
    "                        tf.keras.losses.KLDivergence()(y_true=y, y_pred=logits_s1))\n",
    "\n",
    "        \n",
    "        dim = tf.shape(emb_tar_s2)[0]\n",
    "        emb_s2_class = modality_classifier(emb_tar_s2,l)\n",
    "        emb_s1_class = modality_classifier(emb_tar_s1,l)\n",
    "        all_emb_s2 = tf.concat([tf.ones([dim, 1]),\n",
    "                                          tf.zeros([dim, 1])], 1)\n",
    "        all_emb_s1 = tf.concat([tf.zeros([dim, 1]),\n",
    "                                          tf.ones([dim, 1])], 1)\n",
    "        if modality_method==\"softmax\":\n",
    "            modality_class_loss = tf.math.reduce_mean\\\n",
    "            (tf.nn.softmax_cross_entropy_with_logits(logits=emb_s1_class, labels=all_emb_s1) + \\\n",
    "                      tf.nn.softmax_cross_entropy_with_logits(logits=emb_s2_class, labels=all_emb_s2)) \n",
    "        elif modality_method==\"binary\":\n",
    "            modality_class_loss = tf.math.reduce_mean\\\n",
    "            (tf.keras.losses.BinaryCrossentropy(from_logits=False)(y_pred=emb_s1_class, y_true=all_emb_s1) + \\\n",
    "                    tf.keras.losses.BinaryCrossentropy(from_logits=False)(y_pred=emb_s2_class, y_true=all_emb_s2)) \n",
    "        elif modality_method==\"kl\":\n",
    "            modality_class_loss = tf.math.reduce_mean\\\n",
    "            (tf.keras.losses.KLDivergence(reduction=tf.keras.losses.Reduction.NONE)(y_pred=emb_s1_class, y_true=all_emb_s1) + \\\n",
    "                    tf.keras.losses.KLDivergence(reduction=tf.keras.losses.Reduction.NONE)(y_pred=emb_s2_class, y_true=all_emb_s2)) \n",
    "        emb_loss = 100 * label_loss + loss_triple\n",
    "        loss_with_modality = 100 * label_loss - 100 * modality_class_loss\n",
    "\n",
    "\n",
    "    gradients_classifier = classifier.gradient(label_loss, label_classifier.trainable_variables) \n",
    "    classifier_optimizer.apply_gradients(zip(gradients_classifier, label_classifier.trainable_variables))\n",
    "    if epoch % not_skip_index_modality == 0:\n",
    "        gradients_modality = modality.gradient(modality_class_loss, modality_classifier.trainable_variables)\n",
    "        modality_optimizer.apply_gradients(zip(gradients_modality, modality_classifier.trainable_variables))\n",
    "\n",
    "        gradients_tripple_s2 = tripple_s2.gradient(loss_with_modality, s2_feature_embed.trainable_variables)  \n",
    "        gradients_tripple_s1 = tripple_s1.gradient(loss_with_modality, s1_feature_embed.trainable_variables)\n",
    "        depict_loss = loss_with_modality\n",
    "    elif epoch % not_skip_index_triple == 0:\n",
    "        gradients_tripple_s2 = tripple_s2.gradient(emb_loss, s2_feature_embed.trainable_variables)  \n",
    "        gradients_tripple_s1 = tripple_s1.gradient(emb_loss, s1_feature_embed.trainable_variables)  \n",
    "        depict_loss = emb_loss\n",
    "    else:\n",
    "        gradients_tripple_s2 = tripple_s2.gradient(label_loss, s2_feature_embed.trainable_variables)  \n",
    "        gradients_tripple_s1 = tripple_s1.gradient(label_loss, s1_feature_embed.trainable_variables) \n",
    "        depict_loss = 100*label_loss \n",
    "    \n",
    "\n",
    "    tripple_optimizer_s2.apply_gradients(zip(gradients_tripple_s2, s2_feature_embed.trainable_variables))\n",
    "    tripple_optimizer_s1.apply_gradients(zip(gradients_tripple_s1, s1_feature_embed.trainable_variables))\n",
    "   \n",
    "\n",
    "    precision(y , logits_s1)\n",
    "    metric(y,logits_s1)\n",
    "    modality_loss(modality_class_loss*100)\n",
    "    emb_fin__loss(depict_loss)\n",
    "    label_fin_loss(label_loss*100)\n",
    "    triple_fin_loss(loss_triple)"
   ]
  },
  {
   "cell_type": "markdown",
   "metadata": {
    "id": "_v_YP16ozC1p"
   },
   "source": [
    "# Metrics"
   ]
  },
  {
   "cell_type": "code",
   "execution_count": 18,
   "metadata": {
    "id": "sNBO2faVzE9V"
   },
   "outputs": [],
   "source": [
    "#Mean Average Precision function\n",
    "def mAP(main_feature,tested_feature,labes, k=50):\n",
    "    avg_precs = []\n",
    "    for i in range(len(main_feature)):\n",
    "        query_label = labes[i]\n",
    "        wv = main_feature[i]\n",
    "        diffs = tested_feature - wv\n",
    "        dists = np.linalg.norm(diffs, axis=1)\n",
    "        sorted_idx = np.argsort(dists)\n",
    "        precs = []\n",
    "        for topk in range(1, k + 1):\n",
    "        hits = 0\n",
    "        top_k = sorted_idx[0 : topk]\n",
    "        for ii in top_k:\n",
    "            retrieved_label = labes[ii]\n",
    "            if retrieved_label == query_label:\n",
    "                  hits += 1\n",
    "            precs.append(float(hits) / float(topk))\n",
    "        if len(precs) == 0:\n",
    "                    precs.append(0)\n",
    "        avg_precs.append(np.average(precs))\n",
    "    return np.mean(avg_precs)"
   ]
  },
  {
   "cell_type": "code",
   "execution_count": 19,
   "metadata": {
    "id": "fFrR8N8AzQLU"
   },
   "outputs": [],
   "source": [
    "#project the modality using t-SNE\n",
    "def project_one_modality(data, labels):\n",
    "    X_embedded = TSNE(n_components=2, learning_rate='auto', init='random', perplexity=3).\\\n",
    "                                    fit_transform(data)\n",
    "    un = np.unique(labels)\n",
    "    n_labels = len(un)\n",
    "    color = [list(np.random.choice(range(256), size=3)/256) for i in range(n_labels)]\n",
    "    fig,ax = plt.subplots()\n",
    "    ax.set_axis_off()\n",
    "    for i in range(n_labels):\n",
    "        ind = np.where(labels==un[i])[0]\n",
    "        ax.scatter(X_embedded[ind,0],X_embedded[ind,1], c=color[i], alpha=0.5)"
   ]
  },
  {
   "cell_type": "code",
   "execution_count": 20,
   "metadata": {
    "id": "mJ8IXbSvzryv"
   },
   "outputs": [],
   "source": [
    "#the function takes two modalitites and project them using t-SNE. The marker of the first feature space is \"o\" and of the sacond - \"x\"\n",
    "def project_both_modalities(f_data, s_data, labels):\n",
    "    total_data = np.append(f_data,s_data)\n",
    "    total_data= total_data.reshape((-1,semantic_emb_dim))\n",
    "    total_labels = np.append(labels,labels)\n",
    "    X_embedded = TSNE(n_components=2, learning_rate='auto', init='random', \n",
    "                    perplexity=3).fit_transform(total_data)\n",
    "    f_X_embedded = X_embedded[:f_data.shape[0]]\n",
    "    s_X_embedded = X_embedded[f_data.shape[0]:]\n",
    "    un = np.unique(labels)\n",
    "    n_labels = len(un)\n",
    "    color = [list(np.random.choice(range(256), size=3)/256) for i in range(n_labels)]\n",
    "    fig,ax = plt.subplots() \n",
    "    ax.set_axis_off()\n",
    "    for i in range(n_labels):\n",
    "        ind = np.where(labels==un[i])[0]\n",
    "        ax.scatter(f_X_embedded[ind,0],f_X_embedded[ind,1], c=color[i], alpha=0.5,marker = \"o\")\n",
    "        ax.scatter(s_X_embedded[ind,0],s_X_embedded[ind,1], c=color[i], alpha=0.5, marker =\"x\")"
   ]
  },
  {
   "cell_type": "code",
   "execution_count": 21,
   "metadata": {
    "id": "3ZDoUnZ7EV6x"
   },
   "outputs": [],
   "source": [
    "# builds confusion matrix for predicted values and grouond truth\n",
    "def build_confusion_matrix(predicted, test_labels):\n",
    "    remove_ind = np.where(np.sum(test_labels , axis= 1)!=1)[0]\n",
    "    predicted = np.delete(predicted, remove_ind, axis= 0)\n",
    "    cl_test_labels = np.delete(test_labels, remove_ind, axis = 0)\n",
    "    predicted = np.argmax(predicted,axis=1)\n",
    "    cl_test_labels = np.argmax(cl_test_labels, axis=1)\n",
    "    cm = confusion_matrix(cl_test_labels,predicted)\n",
    "    cm = cm/(np.sum(cm, axis = 1)[:,None])\n",
    "    cm_df = pd.DataFrame(cm,\n",
    "                      index = ['Forest','Shrubland','Savanna','Grassland','Wetlands','Croplands','Urban','Barren','Water'], \n",
    "                      columns = ['Forest','Shrubland','Savanna','Grassland','Wetlands','Croplands','Urban','Barren','Water'])\n",
    "    plt.figure(figsize=(10,10))\n",
    "    cm_df = cm_df.apply(lambda x: np.round(x,2), axis=1)\n",
    "    sns.heatmap(cm_df, annot=True,annot_kws={\"size\": 13})\n",
    "    plt.title('Confusion Matrix')\n",
    "    plt.ylabel('Actal Values')\n",
    "    plt.xlabel('Predicted Values')\n",
    "    plt.show()"
   ]
  },
  {
   "cell_type": "code",
   "execution_count": 22,
   "metadata": {
    "id": "_BUPhegrEgX0"
   },
   "outputs": [],
   "source": [
    "# the function constructs the matrix with \n",
    "\n",
    "def compare_different_classes(first_class, second_class, metric ='cityblock' ):\n",
    "    return np.mean(scipy.spatial.distance.cdist(first_class, second_class, metric=metric))\n",
    "\n",
    "def show_distances_between(predicted_s2,predicted_s1,test_labels):\n",
    "    all_distance = compare_different_classes(predicted_s2 , predicted_s1)\n",
    "    metric = np.zeros((9,9))\n",
    "    diag_value = np.array([])\n",
    "    not_diag_value = np.array([])\n",
    "    for i in range(10):\n",
    "        for j in range(10):\n",
    "        if i == 7 or j == 7:\n",
    "            continue\n",
    "        first_class = test_labels[:,i]\n",
    "        second_class = test_labels[:,j]\n",
    "        first_class = np.where(first_class > 0.5)[0]\n",
    "        second_class = np.where(second_class > 0.5)[0]\n",
    "        u = i\n",
    "        if j>7:\n",
    "            j=j-1\n",
    "        if i>7:\n",
    "            u=i-1\n",
    "        if j == u:\n",
    "            diag_value = np.append(diag_value, compare_different_classes\n",
    "                              (predicted_s2[first_class] , predicted_s1[second_class])/all_distance)\n",
    "        else: \n",
    "            not_diag_value = np.append(not_diag_value, compare_different_classes\n",
    "                              (predicted_s2[first_class] , predicted_s1[second_class])/all_distance)\n",
    "\n",
    "        metric[j,u] = compare_different_classes\\\n",
    "                              (predicted_s2[first_class] , predicted_s1[second_class])/all_distance\n",
    "    cm_df = pd.DataFrame(metric,\n",
    "                      index = ['Forest','Shrubland','Savanna','Grassland','Wetlands','Croplands','Urban','Barren','Water'], \n",
    "                      columns = ['Forest','Shrubland','Savanna','Grassland','Wetlands','Croplands','Urban','Barren','Water'])\n",
    "    plt.figure(figsize=(10,10))\n",
    "    sns.heatmap(cm_df, annot=True)\n",
    "    plt.title('Distances')\n",
    "    plt.ylabel('')\n",
    "    plt.xlabel('')\n",
    "    plt.show()"
   ]
  },
  {
   "cell_type": "code",
   "execution_count": 23,
   "metadata": {
    "id": "cwt_F5-AGYNj"
   },
   "outputs": [],
   "source": [
    "#contructs the matrix to compare output of different modalities using histogram intersection\n",
    "\n",
    "def histogram_intersection(h1, h2):\n",
    "    sm = 0\n",
    "    for i in range(10):\n",
    "        sm += min(h1[i], h2[i])\n",
    "    return sm\n",
    "\n",
    "\n",
    "def homogen_matrix(predicted_s2, predicted_s1):\n",
    "    matrix = np.zeros((9,9))\n",
    "    counts = np.zeros((9,))\n",
    "    for i in range(len(predicted_s2)):\n",
    "        np.argmax(predicted_s2[i])\n",
    "        first_res = np.argmax(predicted_s1[i])\n",
    "\n",
    "        second_res = np.argmax(predicted_s2[i])\n",
    "        if first_res>7:\n",
    "            first_res=first_res-1\n",
    "        if second_res>7:\n",
    "            second_res=second_res-1\n",
    "        matrix[first_res,second_res] += histogram_intersection(predicted_s2[i],predicted_s1[i])\n",
    "        counts[first_res] +=1\n",
    "    matrix = matrix/counts[:,None]\n",
    "    cm_df = pd.DataFrame(matrix,\n",
    "                      index = ['Forest','Shrubland','Savanna','Grassland','Wetlands','Croplands','Urban','Barren','Water'], \n",
    "                      columns = ['Forest','Shrubland','Savanna','Grassland','Wetlands','Croplands','Urban','Barren','Water'])\n",
    "    plt.figure(figsize=(10,10))\n",
    "    cm_df = cm_df.apply(lambda x: np.round(x,2), axis=1)\n",
    "    sns.heatmap(cm_df, annot=True,annot_kws={\"size\": 13})\n",
    "    plt.title('Comparison Matrix')\n",
    "    plt.ylabel('Sentinel 1 Values')\n",
    "    plt.xlabel('Sentinel 2 Values')"
   ]
  },
  {
   "cell_type": "code",
   "execution_count": 50,
   "metadata": {
    "id": "AnKQJut4LjMp"
   },
   "outputs": [],
   "source": [
    "#the table shows the summary of histogram analysis for each class. \n",
    "def summary_homogen_matrix(predicted_s2, predicted_s1):\n",
    "    matrix = np.zeros((9,9))\n",
    "    counts = np.zeros((9,))\n",
    "    for i in range(len(predicted_s2)):\n",
    "        np.argmax(predicted_s2[i])\n",
    "        first_res = np.argmax(predicted_s1[i])\n",
    "\n",
    "        second_res = np.argmax(predicted_s2[i])\n",
    "        if first_res>7:\n",
    "            first_res=first_res-1\n",
    "        if second_res>7:\n",
    "            second_res=second_res-1\n",
    "        matrix[first_res,second_res] += histogram_intersection(predicted_s2[i],predicted_s1[i])\n",
    "        counts[first_res] +=1\n",
    "    matrix = matrix/counts[:,None]\n",
    "    matrix = (np.sum(matrix, axis=1)).reshape((1,9))\n",
    "    cm_df = pd.DataFrame(matrix,\n",
    "                      index = [\"\"],\n",
    "                      columns = ['Forest','Shrubland','Savanna','Grassland','Wetlands','Croplands','Urban','Barren','Water']\n",
    "                      )\n",
    "    plt.figure(figsize=(10,1))\n",
    "    cm_df = cm_df.apply(lambda x: np.round(x,2), axis=1)\n",
    "    sns.heatmap(cm_df, annot=True,annot_kws={\"size\": 13})\n",
    "    plt.title('Summary of histogram intersection analysis')"
   ]
  },
  {
   "cell_type": "code",
   "execution_count": 25,
   "metadata": {
    "id": "G7Sw4Ex5MK5D"
   },
   "outputs": [],
   "source": [
    "# the metric shows how correlated the classification of different analysis are.\n",
    "#instrad of histogram intersection algorithm, this method counts,\n",
    "#when and where the dominant classes match\n",
    "def homogen_matrix_without_histogram(predicted_s2, predicted_s1):\n",
    "    matrix = np.zeros((9,9))\n",
    "    counts = np.zeros((9,))\n",
    "    for i in range(len(predicted_s2)):\n",
    "        np.argmax(predicted_s2[i])\n",
    "        first_res = np.argmax(predicted_s1[i])\n",
    "\n",
    "        second_res = np.argmax(predicted_s2[i])\n",
    "        if first_res>7:\n",
    "            first_res=first_res-1\n",
    "        if second_res>7:\n",
    "            second_res=second_res-1\n",
    "        matrix[first_res,second_res] +=1\n",
    "        counts[first_res] +=1\n",
    "    matrix = matrix/counts[:,None]\n",
    "    cm_df = pd.DataFrame(matrix,\n",
    "                      index = ['Forest','Shrubland','Savanna','Grassland','Wetlands','Croplands','Urban','Barren','Water'],\n",
    "                      columns = ['Forest','Shrubland','Savanna','Grassland','Wetlands','Croplands','Urban','Barren','Water']\n",
    "                      )\n",
    "    plt.figure(figsize=(10,10))\n",
    "    cm_df = cm_df.apply(lambda x: np.round(x,2), axis=1)\n",
    "    sns.heatmap(cm_df, annot=True,annot_kws={\"size\": 13})\n",
    "    plt.title('Distribution of dominant classes')\n",
    "    plt.ylabel('Sentinel-1')\n",
    "    plt.xlabel('Sentinel-2')"
   ]
  },
  {
   "cell_type": "code",
   "execution_count": 26,
   "metadata": {
    "id": "xiONja-Vx1WX"
   },
   "outputs": [],
   "source": [
    "#project the data to demonstrate how splittable the modalities are\n",
    "def seperaction_of_comalities(f_data, s_data):\n",
    "    total_data = np.append(f_data,s_data)\n",
    "    total_data= total_data.reshape((-1,semantic_emb_dim))\n",
    "    X_embedded = TSNE(n_components=2, learning_rate='auto', init='random', perplexity=3).\\\n",
    "    fit_transform(total_data)\n",
    "    f_X_embedded = X_embedded[:f_data.shape[0]]\n",
    "    s_X_embedded = X_embedded[f_data.shape[0]:]\n",
    "    fig,ax = plt.subplots()\n",
    "    plt.axis('off') \n",
    "    ax.scatter(f_X_embedded[:,0],f_X_embedded[:,1], \n",
    "               c= list(np.random.choice(range(256), size=3)/256), alpha=0.5,marker = \"o\")\n",
    "    ax.scatter(s_X_embedded[:,0],s_X_embedded[:,1], \n",
    "               c=list(np.random.choice(range(256), size=3)/256), alpha=0.5, marker =\"x\")"
   ]
  },
  {
   "cell_type": "markdown",
   "metadata": {
    "id": "3FKM0hyIHA54"
   },
   "source": [
    "# Code to extract features  "
   ]
  },
  {
   "cell_type": "code",
   "execution_count": null,
   "metadata": {
    "colab": {
     "base_uri": "https://localhost:8080/",
     "height": 265
    },
    "id": "WmaHJ7-vHQN_",
    "outputId": "181fae91-1c18-45f1-c535-cdac0b2b6b2a"
   },
   "outputs": [
    {
     "data": {
      "image/png": "[encoded data removed]",
      "text/plain": [
       "<Figure size 432x288 with 1 Axes>"
      ]
     },
     "metadata": {},
     "output_type": "display_data"
    },
    {
     "data": {
      "text/plain": [
       "<Axes: >"
      ]
     },
     "execution_count": 31,
     "metadata": {},
     "output_type": "execute_result"
    }
   ],
   "source": [
    "#visualize a sample from S1 imagery\n",
    "fp = r'ROIs2017_winter_s1/s1_102/ROIs2017_winter_s1_102_p101.tif'\n",
    "img = rasterio.open(fp)\n",
    "plt.axis('off')\n",
    "show(img)"
   ]
  },
  {
   "cell_type": "code",
   "execution_count": null,
   "metadata": {
    "colab": {
     "base_uri": "https://localhost:8080/",
     "height": 265
    },
    "id": "pEVmzia6H8Bp",
    "outputId": "677921a1-e70e-443b-8e29-55e4b12216f9"
   },
   "outputs": [
    {
     "data": {
      "image/png": "[encoded data removed]",
      "text/plain": [
       "<Figure size 432x288 with 1 Axes>"
      ]
     },
     "metadata": {},
     "output_type": "display_data"
    },
    {
     "data": {
      "text/plain": [
       "<Axes: >"
      ]
     },
     "execution_count": 32,
     "metadata": {},
     "output_type": "execute_result"
    }
   ],
   "source": [
    "#visualize a sample from S2 imagery\n",
    "fp = r'ROIs2017_winter_s2/s2_102/ROIs2017_winter_s2_102_p101.tif'\n",
    "img = rasterio.open(fp)\n",
    "plt.axis('off')\n",
    "show(img)"
   ]
  },
  {
   "cell_type": "code",
   "execution_count": null,
   "metadata": {
    "id": "t-t0vP5qIIc8"
   },
   "outputs": [],
   "source": [
    "#save the name of the samples and the labels as a dictionary\n",
    "dic_data = read_data(\"IGBP_probability_labels.pkl\", \"pkl\")\n",
    "dic_data = dic_data.reshape((-1,))\n",
    "winter_key = np.array([x for x in np.array(list(dic_data[0].keys())).\\\n",
    "                       reshape((-1,)) if \"winter\" in x])\n",
    "keys = np.array([np.argmax(dic_data[0][x]) for x in winter_key])\n",
    "for key in winter_key:\n",
    "    dic_data[0][key]= simpl_igbp(dic_data[0][key])"
   ]
  },
  {
   "cell_type": "code",
   "execution_count": null,
   "metadata": {
    "id": "Uz9l7imgIVNb"
   },
   "outputs": [],
   "source": [
    "#get the name for train and test datasets. \n",
    "#The file with names of data for training or testing should be created in advance\n",
    "test_files = read_data(\"test_files.csv\", \"csv\", type_save=str)\n",
    "train_files = read_data(\"train_files.csv\", \"csv\", type_save=str)\n",
    "initial_weghts = define_initial_weights()"
   ]
  },
  {
   "cell_type": "markdown",
   "metadata": {
    "id": "sxuKto3lRXfd"
   },
   "source": [
    "S2 modality"
   ]
  },
  {
   "cell_type": "code",
   "execution_count": null,
   "metadata": {
    "id": "vJMfRIJfIsNP"
   },
   "outputs": [],
   "source": [
    "#the model to extract features from S2 modality\n",
    "model_s2 = getResModel_remote((256, 256, 13))\n",
    "model_s2.compile(optimizer=\"adam\", loss=tf.keras.losses.KLDivergence(),\n",
    "                 metrics=[metric,\"accuracy\"])"
   ]
  },
  {
   "cell_type": "code",
   "execution_count": null,
   "metadata": {
    "id": "G69HnUp9JkoH"
   },
   "outputs": [],
   "source": [
    "#train the model to extract the features from S2 modality\n",
    "list_classed = os.listdir('./ROIs2017_winter_s2')\n",
    "data = []\n",
    "label = []\n",
    "split_test = 150\n",
    "for ep in range(40):\n",
    "    print(f\"epoch: {ep}\")\n",
    "    for i in range(200):\n",
    "    #take a random sample that belongs to train file\n",
    "        ind = np.random.randint(0, len(list_classed),size=1)[0]\n",
    "        name_images = os.listdir(f'./ROIs2017_winter_s2/{list_classed[ind]}')\n",
    "        ind_im =  np.random.randint(0, len(name_images),size=1)[0]\n",
    "        while name_images[ind_im] in test_files or \\\n",
    "                                max(dic_data[0][name_images[ind_im]])<0.5:\n",
    "            ind_im = np.random.randint(0, len(name_images),size=1)[0]\n",
    "        label.append(dic_data[0][name_images[ind_im]])\n",
    "        image =list(tiff.imread(\n",
    "            f'./ROIs2017_winter_s2/{list_classed[ind]}/{name_images[ind_im]}'))\n",
    "        data.append(image)\n",
    "        if len(data)==200:\n",
    "                model_s2.fit(np.array(data[:split_test]),np.array(label[:split_test]),\n",
    "                class_weight = initial_weghts, epochs=10)\n",
    "                model_s2.evaluate(np.array(data[split_test:]),\n",
    "                                          np.array(label[split_test:]))\n",
    "                data = []\n",
    "                label = []"
   ]
  },
  {
   "cell_type": "code",
   "execution_count": null,
   "metadata": {
    "id": "hbGwFuuOMw6a"
   },
   "outputs": [],
   "source": [
    "#evaluate the qualtity of the classifier for feature extraction \n",
    "#save the features for the future visualsation\n",
    "count =0\n",
    "data =[]\n",
    "features_s2 = []\n",
    "labels = []\n",
    "feature_model = Model(model_s2.input,model_s2.get_layer(\"fc2\").output)\n",
    "list_classes = os.listdir('./ROIs2017_winter_s2')\n",
    "for names in test_files:\n",
    "    i = 0\n",
    "    for folders in list_classes:\n",
    "    if not np.any(np.isin(os.listdir(f'./ROIs2017_winter_s2/{folders}'),names)):\n",
    "        continue\n",
    "    else:\n",
    "        image = np.array(list(tiff.imread(f'./ROIs2017_winter_s2/{folders}/{names}'))) \n",
    "        data.append(image) \n",
    "        image = image[np.newaxis,...]\n",
    "        features_s2.append(list(feature_model.predict(image)[0].astype(float))) \n",
    "        labels.append(dic_data[0][names])\n",
    "        break\n",
    "model_s2.evaluate(np.array(data), np.array(labels))"
   ]
  },
  {
   "cell_type": "code",
   "execution_count": null,
   "metadata": {
    "id": "ApVVlxuWOAh9"
   },
   "outputs": [],
   "source": [
    "#visualisation of the feature latent space\n",
    "X_embedded = TSNE(n_components=2, learning_rate='auto', init='random', \n",
    "                  perplexity=3).fit_transform(np.array(features_s2))\n",
    "labels_ = np.array([np.argmax(x) for x in labels])\n",
    "un = np.unique(labels_)\n",
    "n_labels = len(un)\n",
    "color = [list(np.random.choice(range(256), size=3)/256) for i in range(n_labels)]\n",
    "fig,ax = plt.subplots() \n",
    "for i in range(n_labels):\n",
    "    ind = np.where(labels_==un[i])[0]\n",
    "    ax.scatter(X_embedded[ind,0],X_embedded[ind,1], c=color[i], alpha=0.5,marker = \"o\")\n",
    "plt.axis(\"off\")"
   ]
  },
  {
   "cell_type": "code",
   "execution_count": null,
   "metadata": {
    "id": "TGZs_YC1Qp6P"
   },
   "outputs": [],
   "source": [
    "#save test feature space for S2 modality\n",
    "list_classes = os.listdir('./ROIs2017_winter_s2')\n",
    "for names in test_files[:3]:\n",
    "    for folders in list_classes:\n",
    "    if not np.any(np.isin(os.listdir(f'./ROIs2017_winter_s2/{folders}'),names)):\n",
    "        continue\n",
    "    else:\n",
    "        image = np.array(list(tiff.imread(f'./ROIs2017_winter_s2/{folders}/{names}')))\n",
    "        break\n",
    "    image = image[np.newaxis,...]\n",
    "    second_feature = list(feature_model.predict(image)[0].astype(float))\n",
    "    with open(\"s2_feature_res_test.csv\", \"a\") as f:\n",
    "        writer_object = csv.writer(f)\n",
    "        writer_object.writerow(second_feature)\n",
    "        f.close()"
   ]
  },
  {
   "cell_type": "code",
   "execution_count": null,
   "metadata": {
    "id": "hUdl5oLnRKFJ"
   },
   "outputs": [],
   "source": [
    "#save train feature space for S2 modality\n",
    "list_classes = os.listdir('./ROIs2017_winter_s2')\n",
    "feature_model = Model(model_s2.input,model_s2.get_layer(\"fc2\").output)\n",
    "for names in train_files[:10]:\n",
    "    for folders in list_classes:\n",
    "    if not np.any(np.isin(os.listdir(f'./ROIs2017_winter_s2/{folders}'),names)):\n",
    "        continue\n",
    "    else:\n",
    "        image = np.array(list(tiff.imread(f'./ROIs2017_winter_s2/{folders}/{names}')))\n",
    "        break\n",
    "    image = image[np.newaxis,...]\n",
    "    second_feature = list(feature_model.predict(image)[0].astype(float))\n",
    "    with open(\"s2_feature_res_train.csv\", \"a\") as f:\n",
    "        writer_object = csv.writer(f)\n",
    "        writer_object.writerow(second_feature)\n",
    "        f.close()"
   ]
  },
  {
   "cell_type": "markdown",
   "metadata": {
    "id": "jeJLsk3gRU4L"
   },
   "source": [
    "S1 modality"
   ]
  },
  {
   "cell_type": "code",
   "execution_count": null,
   "metadata": {
    "id": "sv2FQ4GsRUQu"
   },
   "outputs": [],
   "source": [
    "#get model for S1 modality and the names for train and test datasets\n",
    "model_s1 = getResModel_remote((256, 256, 2))\n",
    "model_s1.compile(optimizer='adam', loss=tf.keras.losses.KLDivergence(), \n",
    "                 metrics=[metric,\"accuracy\"])\n",
    "test_files_s1 = [name_transformer(x) for x in test_files]\n",
    "train_files_s1 = [name_transformer(x) for x in train_files]"
   ]
  },
  {
   "cell_type": "code",
   "execution_count": null,
   "metadata": {
    "id": "zC6pse7kReMR"
   },
   "outputs": [],
   "source": [
    "# train a classifier for a feature extraction of S1 modality\n",
    "list_classed = os.listdir('./ROIs2017_winter_s1')\n",
    "data = []\n",
    "label = []\n",
    "split_test = 150\n",
    "for ep in range(110):\n",
    "    print(f\"epoch: {ep}\")\n",
    "    for i in range(200):\n",
    "    #take a random sample that belongs to train file\n",
    "    ind = np.random.randint(0, len(list_classed),size=1)[0]\n",
    "    name_images = os.listdir(f'./ROIs2017_winter_s1/{list_classed[ind]}')\n",
    "    ind_im =  np.random.randint(0, len(name_images),size=1)[0]\n",
    "    while name_images[ind_im] in test_files_s1 or \\\n",
    "              max(dic_data[0][name_transformer(name_images[ind_im])])<0.5:\n",
    "        ind_im = np.random.randint(0, len(name_images),size=1)[0]\n",
    "    t_name_image = name_transformer(name_images[ind_im])\n",
    "    label.append(dic_data[0][t_name_image])\n",
    "    image =list(tiff.imread(f'./ROIs2017_winter_s1/{list_classed[ind]}/{name_images[ind_im]}'))\n",
    "    data.append(image)\n",
    "    if len(data)==200:\n",
    "        model_s1.fit(np.array(data[:split_test]),\\\n",
    "                   np.array(label[:split_test]), \\\n",
    "                            class_weight = initial_weghts, epochs=20)\n",
    "        model_s1.evaluate(np.array(data[split_test:]),\n",
    "                    np.array(label[split_test:]))\n",
    "        data = []\n",
    "        label = []"
   ]
  },
  {
   "cell_type": "code",
   "execution_count": null,
   "metadata": {
    "id": "ddy0ZAY8Rms9"
   },
   "outputs": [],
   "source": [
    "#evaluate the qualtity of the classifier for feature extraction \n",
    "#save the features for the future visualsation\n",
    "count =0\n",
    "data =[]\n",
    "labels = []\n",
    "features_s1 = []\n",
    "feature_model = Model(model_s1.input,model_s1.get_layer(\"fc2\").output)\n",
    "list_classes = os.listdir('./ROIs2017_winter_s1')\n",
    "for names in test_files_s1:\n",
    "    i = 0\n",
    "    for folders in list_classes:\n",
    "        if not np.any(np.isin(os.listdir(f'./ROIs2017_winter_s1/{folders}'),names)):\n",
    "            continue\n",
    "        else:\n",
    "            image = np.array(list(tiff.imread(f'./ROIs2017_winter_s1/{folders}/{names}'))) \n",
    "            data.append(image) \n",
    "            image = image[np.newaxis,...]\n",
    "            features_s1.append(list(feature_model.predict(image)[0].astype(float))) \n",
    "            t_name = name_transformer(names)\n",
    "            labels.append(dic_data[0][t_name])\n",
    "            break\n",
    "\n",
    "model_s1.evaluate(np.array(data), np.array(labels))"
   ]
  },
  {
   "cell_type": "code",
   "execution_count": null,
   "metadata": {
    "id": "pX_2_coSU-U8"
   },
   "outputs": [],
   "source": [
    "#visalize the features coming from S1 modality\n",
    "X_embedded = TSNE(n_components=2, learning_rate='auto', init='random', \n",
    "                  perplexity=3).fit_transform(np.array(features_s1))\n",
    "labels_ = np.array([np.argmax(x) for x in labels])\n",
    "un = np.unique(labels_)\n",
    "n_labels = len(un)\n",
    "color = [list(np.random.choice(range(256), size=3)/256) for i in range(n_labels)]\n",
    "fig,ax = plt.subplots() \n",
    "for i in range(n_labels):\n",
    "    ind = np.where(labels_==un[i])[0]\n",
    "    ax.scatter(X_embedded[ind,0],X_embedded[ind,1], c=color[i], alpha=0.5, marker = \"o\")\n",
    "plt.axis(\"off\")"
   ]
  },
  {
   "cell_type": "code",
   "execution_count": null,
   "metadata": {
    "id": "fWRpNlNRVuVq"
   },
   "outputs": [],
   "source": [
    "#save the feature space of test S1 modality\n",
    "list_classes = os.listdir('./ROIs2017_winter_s1')\n",
    "feature_model = Model(model_s1.input,model_s1.get_layer(\"fc2\").output)\n",
    "for names in test_files_s1:\n",
    "    for folders in list_classes:\n",
    "        if not np.any(np.isin(os.listdir(f'./ROIs2017_winter_s1/{folders}'),names)):\n",
    "            continue\n",
    "        else:\n",
    "            image = np.array(list(tiff.imread(f'./ROIs2017_winter_s1/{folders}/{names}')))\n",
    "            break\n",
    "    image = image[np.newaxis,...]\n",
    "    second_feature = list(feature_model.predict(image)[0].astype(float))\n",
    "    with open(\"s1_feature_test.csv\", \"a\") as f:\n",
    "        writer_object = csv.writer(f)\n",
    "        writer_object.writerow(second_feature)\n",
    "        f.close()"
   ]
  },
  {
   "cell_type": "code",
   "execution_count": null,
   "metadata": {
    "id": "jzesgs-5WA4X"
   },
   "outputs": [],
   "source": [
    "#save the feature space of train S1 modality\n",
    "list_classes = os.listdir('./ROIs2017_winter_s1')\n",
    "feature_model = Model(model_s1.input,model_s1.get_layer(\"fc2\").output)\n",
    "for names in train_files_s1:\n",
    "    for folders in list_classes:\n",
    "    if not np.any(np.isin(os.listdir(f'./ROIs2017_winter_s1/{folders}'),names)):\n",
    "        continue\n",
    "    else:\n",
    "        image = np.array(list(tiff.imread(f'./ROIs2017_winter_s1/{folders}/{names}')))\n",
    "        break\n",
    "    image = image[np.newaxis,...]\n",
    "    second_feature = list(feature_model.predict(image)[0].astype(float))\n",
    "    with open(\"s1_feature_train.csv\", \"a\") as f:\n",
    "        writer_object = csv.writer(f)\n",
    "        writer_object.writerow(second_feature)\n",
    "        f.close()"
   ]
  },
  {
   "cell_type": "markdown",
   "metadata": {
    "id": "aajByaT3xVnk"
   },
   "source": [
    "# ACMR analysis"
   ]
  },
  {
   "cell_type": "code",
   "execution_count": null,
   "metadata": {
    "id": "EO5x-iPnxZUa"
   },
   "outputs": [],
   "source": [
    "#define the models or load the tretrained ones\n",
    "s1_feature_embed = S1FeatureEmbed()\n",
    "s2_feature_embed = S2FeatureEmbed()\n",
    "label_classifier = LabelClassifier()\n",
    "modality_classifier = ModalityClassifier()\n",
    "initial_weghts = define_initial_weights()"
   ]
  },
  {
   "cell_type": "code",
   "execution_count": null,
   "metadata": {
    "id": "OLdg3yigzOk1"
   },
   "outputs": [],
   "source": [
    "EPOCHS = 10\n",
    "inner_ep = 10\n",
    "size_part = 7_500\n",
    "\n",
    "count_lines = 30_000\n",
    "\n",
    "#define the number of the slices depending on the size of the dataset\n",
    "group = int(np.ceil(count_lines/size_part))\n",
    "\n",
    "for epoch in range(EPOCHS):\n",
    "    print(epoch)\n",
    "    #since I did not have enough RAM, to load all the data in the same time, \n",
    "    #I loaded it by slices.\n",
    "    for i in range(1,group+1):\n",
    "        train_s2_feats = read_data(data_info[0][\"address\"], data_info[0][\"type_data\"],\\\n",
    "                                   start_line=(i-1)*size_part,\\\n",
    "                                  end_line = i*size_part)\n",
    "        train_s1_feats = read_data(data_info[1][\"address\"], data_info[1][\"type_data\"],\\\n",
    "                                   start_line=(i-1)*size_part,\\\n",
    "                                  end_line = i*size_part)\n",
    "        train_labels = read_data(data_info[2][\"address\"], data_info[2][\"type_data\"],\\\n",
    "                                 type_save=str, start_line=(i-1)*size_part,\\\n",
    "                                end_line = i*size_part)\n",
    "        #process the labels to clean them and to bring them to a correct format\n",
    "        t_train_labels = []\n",
    "        remove_ind = []\n",
    "        for i,l in enumerate(train_labels):\n",
    "            l = np.array([x.replace(\"\\n\", \"\") for x in l[1:len(l)-1].split(\" \")\\\n",
    "            if x!=\"\"]).astype(float)\n",
    "            simple_label = simpl_igbp(l)\n",
    "            simple_label[simple_label<0.4]=0\n",
    "            #if there is no class, which has a class >= 0.4, then delete it\n",
    "            if np.sum(simple_label)==0:\n",
    "                remove_ind.append(i)\n",
    "                continue\n",
    "            simple_label = simple_label/np.sum(simple_label)\n",
    "            t_train_labels.append(simple_label)\n",
    "        train_labels = np.array(t_train_labels)\n",
    "        train_s2_feats = np.delete(train_s2_feats,remove_ind, axis=0)\n",
    "        train_s1_feats = np.delete(train_s1_feats,remove_ind, axis=0)\n",
    "        #shuffle the data and group them in batches\n",
    "        train_ds = tf.data.Dataset.from_tensor_slices(\\\n",
    "            (train_s2_feats, train_s1_feats, train_labels))\\\n",
    "            .batch(np.ceil(int(len(train_s1_feats)/1))).shuffle(len(train_s1_feats)*4)\n",
    "        #process the data to get it in correct format for training\n",
    "        pos_s2_list = np.array([])\n",
    "        pos_s1_list = np.array([])\n",
    "        neg_s2_list = np.array([])\n",
    "        neg_s1_list = np.array([])\n",
    "        train_labels = np.array([])\n",
    "        for s2, s1, label in train_ds:\n",
    "            #check if a batch has at least one dominant class being different\n",
    "            adj_mat = np.dot(label,np.transpose(label)) \n",
    "            min_max = np.max(np.min(adj_mat, axis = 0))\n",
    "            if min_max == 1:\n",
    "                continue\n",
    "\n",
    "            pos_s2,pos_s1,neg_s2,neg_s1 = preprocessing(s2, s1, label)\n",
    "            pos_s2_list = np.append(pos_s2_list, pos_s2)\n",
    "            pos_s1_list = np.append(pos_s1_list, pos_s1)\n",
    "            neg_s2_list = np.append(neg_s2_list, neg_s2)\n",
    "            neg_s1_list = np.append(neg_s1_list, neg_s1)\n",
    "            train_labels = np.append(train_labels, label)\n",
    "\n",
    "        pos_s2_dim = pos_s2.shape[1]\n",
    "        pos_s1_dim = pos_s1.shape[1]\n",
    "        neg_s2_dim = neg_s2.shape[1]\n",
    "        neg_s1_dim = neg_s1.shape[1]\n",
    "        train_labels = train_labels.reshape((-1,10))\n",
    "        pos_s2_list = pos_s2_list.reshape((-1,pos_s2_dim))\n",
    "        pos_s1_list = pos_s1_list.reshape((-1,pos_s1_dim))\n",
    "        neg_s2_list = neg_s2_list.reshape((-1,neg_s2_dim))\n",
    "        neg_s1_list = neg_s1_list.reshape((-1,neg_s1_dim))\n",
    "        merged = tf.concat([pos_s2_list,pos_s1_list,neg_s2_list,neg_s1_list],1)\n",
    "        #group the data to gain a proper format\n",
    "        train_ds_split = tf.data.Dataset.from_tensor_slices(\n",
    "            (merged,train_labels)).batch(np.ceil(int(len(train_s1_feats)/1)))\n",
    "\n",
    "        for ep in range(inner_ep):\n",
    "          # Reset the metrics at the start of the next epoch\n",
    "            modality_loss.reset_states()\n",
    "            emb_fin__loss.reset_states()\n",
    "            precision.reset_states()\n",
    "            label_fin_loss.reset_states()\n",
    "            triple_fin_loss.reset_states()\n",
    "            metric.reset_states()\n",
    "            l = 50*(ep+1)\n",
    "            i = 0\n",
    "            for merged_data, labels in train_ds_split:\n",
    "                i += 1\n",
    "                ACMR_train_step(merged_data, labels, \"kl_diverence\", \"softmax\", \\\n",
    "                                            epoch = epoch+1 , not_skip_index_triple = 3, \n",
    "                                            not_skip_index_modality = 2, \n",
    "                                            l = np.float32(l))\n",
    "                #print the results\n",
    "                print(\n",
    "                f'Epoch {ep + 1}, '\n",
    "                f'Image {i + 1}, '\n",
    "                f'Modality Loss: {modality_loss.result()}, '\n",
    "                f'Emb loss: {emb_fin__loss.result() }, '\n",
    "                f'label loss: {label_fin_loss.result() }, '\n",
    "                f'triple loss: {triple_fin_loss.result() }, '\n",
    "                f'Acc: {precision.result()*100}, '\n",
    "                f'F1: {metric.result()*100}, '\n",
    "                )"
   ]
  },
  {
   "cell_type": "code",
   "execution_count": null,
   "metadata": {
    "id": "xfEgem8U8FiF"
   },
   "outputs": [],
   "source": [
    "#preprocess testing data \n",
    "test_s2_feats = read_data(data_info[3][\"address\"], data_info[3][\"type_data\"])\n",
    "test_s1_feats = read_data(data_info[4][\"address\"], data_info[4][\"type_data\"])\n",
    "test_labels = read_data(data_info[5][\"address\"], data_info[5][\"type_data\"], type_save=str)\n",
    "t_test_labels = []\n",
    "for i,l in enumerate(test_labels):\n",
    "    l = np.array([x.replace(\"\\n\", \"\") for x in l[1:len(l)-1].split(\" \")\\\n",
    "        if x!=\"\"]).astype(float)\n",
    "    simple_label = simpl_igbp(l)\n",
    "    simple_label[simple_label>=0.3] = 1\n",
    "    simple_label[simple_label<0.3] = 0\n",
    "    t_test_labels.append(simple_label)\n",
    "test_labels = np.array(t_test_labels)"
   ]
  },
  {
   "cell_type": "code",
   "execution_count": null,
   "metadata": {
    "colab": {
     "base_uri": "https://localhost:8080/"
    },
    "id": "o6E95ZWL8Rv5",
    "outputId": "6235d55d-508c-4aef-d3a8-39e6cc86c6a3"
   },
   "outputs": [
    {
     "name": "stdout",
     "output_type": "stream",
     "text": [
      "Test for S1 modality\n",
      "125/125 [==============================] - 3s 21ms/step - loss: 0.3141 - f1_score: 0.1438 - accuracy: 0.2533 - label_loss: 0.3223\n",
      "Test for S2 modality\n",
      "125/125 [==============================] - 2s 19ms/step - loss: 0.2490 - f1_score: 0.0639 - accuracy: 0.2533 - label_loss: 0.2544\n"
     ]
    },
    {
     "data": {
      "text/plain": [
       "[0.24904993176460266,\n",
       " 0.06386920809745789,\n",
       " 0.25325000286102295,\n",
       " 0.25443294644355774]"
      ]
     },
     "execution_count": 46,
     "metadata": {},
     "output_type": "execute_result"
    }
   ],
   "source": [
    "label_classifier.compile(optimizer=classifier_optimizer,\n",
    "                                loss=label_fin_loss, metrics=[metric, 'accuracy'])\n",
    "print(\"Test for S1 modality\")\n",
    "label_classifier.evaluate(s1_feature_embed(test_s1_feats).numpy(),test_labels)\n",
    "print(\"Test for S2 modality\")\n",
    "label_classifier.evaluate(s2_feature_embed(test_s2_feats).numpy(),test_labels)"
   ]
  },
  {
   "cell_type": "markdown",
   "metadata": {
    "id": "AH9Fjj2nUWLS"
   },
   "source": [
    "# Baselines"
   ]
  },
  {
   "cell_type": "markdown",
   "metadata": {
    "id": "SWrrDTPlU6Pq"
   },
   "source": [
    "## Baseline for S1 modality"
   ]
  },
  {
   "cell_type": "code",
   "execution_count": 41,
   "metadata": {
    "id": "fHf0bDKCUXsn"
   },
   "outputs": [],
   "source": [
    "baseline_model_s1 = BaseLineS1()\n",
    "baseline_model_s1.compile(optimizer=\"adam\",\\\n",
    "                                loss=tf.keras.losses.KLDivergence(), \\\n",
    "                                metrics=[metric, 'accuracy'])\n",
    "initial_weghts = define_initial_weights()"
   ]
  },
  {
   "cell_type": "code",
   "execution_count": null,
   "metadata": {
    "id": "dtU3VFwZU4kH"
   },
   "outputs": [],
   "source": [
    "EPOCHS = 1\n",
    "inner_ep = 100\n",
    "size_part = 10_000\n",
    "count_lines = 30_000\n",
    "group = int(np.ceil(count_lines/size_part))\n",
    "for epoch in range(EPOCHS):\n",
    "    print(epoch)\n",
    "    for i in range(1,group+1):\n",
    "        #take the slice of data of data to fit it in the ram\n",
    "        train_s1_feats = read_data(data_info[1][\"address\"], data_info[1][\"type_data\"],\\\n",
    "                                  start_line=(i-1)*size_part,\\\n",
    "                                  end_line = i*size_part)\n",
    "        train_labels = read_data(data_info[2][\"address\"], data_info[2][\"type_data\"],\\\n",
    "                                type_save=str, start_line=(i-1)*size_part,\\\n",
    "                                end_line = i*size_part)\n",
    "        #clean the labels\n",
    "        t_train_labels = []\n",
    "        remove_ind = []\n",
    "        for i,l in enumerate(train_labels):\n",
    "            l = np.array([x.replace(\"\\n\", \"\") for x in l[1:len(l)-1].split(\" \")\\\n",
    "                if x!=\"\"]).astype(float)\n",
    "            simple_label = simpl_igbp(l)\n",
    "            simple_label[simple_label<0.4]=0\n",
    "            if np.sum(simple_label)==0:\n",
    "                remove_ind.append(i)\n",
    "                continue\n",
    "            simple_label = simple_label/np.sum(simple_label)\n",
    "            t_train_labels.append(simple_label)\n",
    "        train_labels = np.array(t_train_labels)\n",
    "        train_s1_feats = np.delete(train_s1_feats,remove_ind, axis=0)\n",
    "\n",
    "        train_ds = tf.data.Dataset.from_tensor_slices((train_s1_feats, train_labels)).\\\n",
    "        batch(np.ceil(int(len(train_s1_feats)/1))).shuffle(len(train_s1_feats)*4)\n",
    "        #train\n",
    "        baseline_model_s1.fit(train_ds, class_weight=initial_weghts, epochs= inner_ep)"
   ]
  },
  {
   "cell_type": "code",
   "execution_count": null,
   "metadata": {
    "id": "fNiOG1LQPMIs"
   },
   "outputs": [],
   "source": [
    "#load testdata for S1 modality\n",
    "test_s1_feats = read_data(data_info[4][\"address\"], data_info[4][\"type_data\"])\n",
    "test_labels = read_data(data_info[5][\"address\"], data_info[5][\"type_data\"], type_save=str)\n",
    "t_test_labels = []\n",
    "#format labels\n",
    "for i,l in enumerate(test_labels):\n",
    "    l = np.array([x.replace(\"\\n\", \"\") for x in l[1:len(l)-1].split(\" \")\\\n",
    "        if x!=\"\"]).astype(float)\n",
    "    simple_label = simpl_igbp(l)\n",
    "    simple_label[simple_label>=0.3] = 1\n",
    "    simple_label[simple_label<0.3] = 0\n",
    "    t_test_labels.append(simple_label)\n",
    "test_labels = np.array(t_test_labels)"
   ]
  },
  {
   "cell_type": "code",
   "execution_count": null,
   "metadata": {
    "id": "NmFIPGorPUaS"
   },
   "outputs": [],
   "source": [
    "baseline_model_s1.evaluate(test_s1_feats , test_labels)"
   ]
  },
  {
   "cell_type": "markdown",
   "metadata": {
    "id": "vnMHxNn-P0C1"
   },
   "source": [
    "## Baseline for S2 modality"
   ]
  },
  {
   "cell_type": "code",
   "execution_count": 46,
   "metadata": {
    "id": "K0AtcS08PWis"
   },
   "outputs": [],
   "source": [
    "baseline_model_s2 = BaseLineS2()\n",
    "baseline_model_s2.compile(optimizer=\"adam\",\\\n",
    "                                loss=tf.keras.losses.KLDivergence(), \\\n",
    "                                metrics=[metric, 'accuracy'])\n",
    "initial_weghts = define_initial_weights()"
   ]
  },
  {
   "cell_type": "code",
   "execution_count": null,
   "metadata": {
    "id": "19J9eKdbQGfD"
   },
   "outputs": [],
   "source": [
    "count_lines = 30_000\n",
    "EPOCHS = 1\n",
    "inner_ep = 100\n",
    "size_part = 10_000\n",
    "group = int(np.ceil(count_lines/size_part))\n",
    "\n",
    "for epoch in range(EPOCHS):\n",
    "    print(epoch)\n",
    "    for i in range(1,group+1):\n",
    "        train_s2_feats = read_data(data_info[0][\"address\"], data_info[0][\"type_data\"], start_line=(i-1)*size_part,\\\n",
    "                                  end_line = i*size_part)\n",
    "        train_labels = read_data(data_info[2][\"address\"], data_info[2][\"type_data\"], type_save=str, start_line=(i-1)*size_part,\\\n",
    "                                end_line = i*size_part)\n",
    "        #clean labels\n",
    "        t_train_labels = []\n",
    "        remove_ind = []\n",
    "        for i,l in enumerate(train_labels):\n",
    "            l = np.array([x.replace(\"\\n\", \"\") for x in l[1:len(l)-1].split(\" \")\\\n",
    "            if x!=\"\"]).astype(float)\n",
    "            simple_label = simpl_igbp(l)\n",
    "            simple_label[simple_label<0.4]=0\n",
    "            if np.sum(simple_label)==0:\n",
    "                remove_ind.append(i)\n",
    "                continue\n",
    "            simple_label = simple_label/np.sum(simple_label)\n",
    "            t_train_labels.append(simple_label)\n",
    "        train_labels = np.array(t_train_labels)\n",
    "        train_s2_feats = np.delete(train_s2_feats,remove_ind, axis=0)\n",
    "\n",
    "        train_ds = tf.data.Dataset.from_tensor_slices((train_s2_feats, train_labels)).\\\n",
    "        batch(np.ceil(int(len(train_s2_feats)/1))).shuffle(len(train_s2_feats)*4)\n",
    "        #train\n",
    "        baseline_model_s2.fit(train_ds, class_weight=initial_weghts, epochs= inner_ep)"
   ]
  },
  {
   "cell_type": "code",
   "execution_count": null,
   "metadata": {
    "id": "6mul91fSRSB4"
   },
   "outputs": [],
   "source": [
    "test_s2_feats = read_data(data_info[3][\"address\"], data_info[3][\"type_data\"])\n",
    "test_labels = read_data(data_info[5][\"address\"], data_info[5][\"type_data\"], \n",
    "                        type_save=str)\n",
    "#clean test data\n",
    "t_test_labels = []\n",
    "for i,l in enumerate(test_labels):\n",
    "    l = np.array([x.replace(\"\\n\", \"\") for x in l[1:len(l)-1].split(\" \")\\\n",
    "        if x!=\"\"]).astype(float)\n",
    "    simple_label = simpl_igbp(l)\n",
    "    simple_label[simple_label>=0.3] = 1\n",
    "    simple_label[simple_label<0.3] = 0\n",
    "    t_test_labels.append(simple_label)\n",
    "test_labels = np.array(t_test_labels)"
   ]
  },
  {
   "cell_type": "code",
   "execution_count": null,
   "metadata": {
    "id": "x3LiYTEwRcDM"
   },
   "outputs": [],
   "source": [
    "baseline_model_s2.evaluate(test_s2_feats , test_labels)"
   ]
  },
  {
   "cell_type": "markdown",
   "metadata": {
    "id": "_NfxFgrf8ws4"
   },
   "source": [
    "# Metric calculation"
   ]
  },
  {
   "cell_type": "markdown",
   "metadata": {
    "id": "Dnc3ONvD82EO"
   },
   "source": [
    "The following part demonstrates, how the metrics are gained. These exampkes work with test data but it could be also applied to train data"
   ]
  },
  {
   "cell_type": "code",
   "execution_count": 33,
   "metadata": {
    "id": "ULFQX_v9E9ey"
   },
   "outputs": [],
   "source": [
    "#all analysis requires the test data. The label should not be cleaned\n",
    "test_s2_feats = read_data(data_info[3][\"address\"], data_info[3][\"type_data\"])\n",
    "test_s1_feats = read_data(data_info[4][\"address\"], data_info[4][\"type_data\"])\n",
    "test_labels = read_data(data_info[5][\"address\"], data_info[5][\"type_data\"], type_save=str)\n",
    "t_test_labels = []\n",
    "for i,l in enumerate(test_labels):\n",
    "    l = np.array([x.replace(\"\\n\", \"\") for x in l[1:len(l)-1].split(\" \")\\\n",
    "    if x!=\"\"]).astype(float)\n",
    "    simple_label = simpl_igbp(l)\n",
    "    t_test_labels.append(simple_label)\n",
    "test_labels = np.array(t_test_labels)\n",
    "#some analysis works with the dominant classes\n",
    "test_trans =np.array([np.argmax(res) for res in test_labels])"
   ]
  },
  {
   "cell_type": "code",
   "execution_count": null,
   "metadata": {
    "id": "FU0m2neVRvPX"
   },
   "outputs": [],
   "source": [
    "#merged feature space\n",
    "merged_s1_feature = s1_feature_embed(train_s1_feats).numpy()\n",
    "merged_s2_feature = s2_feature_embed(train_s2_feats).numpy()\n",
    "#universal classifier output\n",
    "predicted_s1= label_classifier(s1_feature_embed(test_s1_feats).numpy()).numpy()\n",
    "predicted_s2 = label_classifier(s2_feature_embed(test_s2_feats).numpy()).numpy()"
   ]
  },
  {
   "cell_type": "code",
   "execution_count": 48,
   "metadata": {
    "id": "X9yIcW-gRyyG"
   },
   "outputs": [],
   "source": [
    "# feature space of a baseline.\n",
    "# if wanted to be tested, the following code should replace\n",
    "# \"merged_s1_feature\" and \"merged_s2_feature\" with the following paramters\n",
    "base_s1_feature_model = Sequential()\n",
    "base_s1_feature_model.add(tf.keras.layers.Input(2048,))\n",
    "base_s1_feature_model.add(baseline_model_s1.get_layer(\"s1_emb\"))\n",
    "\n",
    "base_s2_feature_model = Sequential()\n",
    "base_s2_feature_model.add(tf.keras.layers.Input(2048,))\n",
    "base_s2_feature_model.add(baseline_model_s2.get_layer(\"s2_emb\"))\n",
    "\n",
    "baseline_s1_feature = base_s1_feature_model(test_s1_feats).numpy()\n",
    "baseline_s2_feature = base_s2_feature_model(test_s2_feats).numpy()\n",
    "\n",
    "#matrix calculation use the prediction of the models.\n",
    "#baselines output\n",
    "# if it chosen, in the following code \n",
    "#\"predicted_s1\" and \"predicted_s2\" should be replaced with the parameters\n",
    "baseline_s1_results = baseline_model_s1(test_s1_feats).numpy()\n",
    "baseline_s2_results = baseline_model_s2(test_s2_feats).numpy()"
   ]
  },
  {
   "cell_type": "markdown",
   "metadata": {
    "id": "Jvg0CzXm-LXF"
   },
   "source": [
    "###Accuracy of modality classification "
   ]
  },
  {
   "cell_type": "code",
   "execution_count": null,
   "metadata": {
    "id": "cU3bDraU8938"
   },
   "outputs": [],
   "source": [
    "EPOCHS = 1\n",
    "\n",
    "size_part = 15_000\n",
    "count_lines = 30_000\n",
    "#get a new modaity classifier\n",
    "modality_classifier = ModalityClassifier()\n",
    "modality_classifier.compile(optimizer=modality_optimizer,\n",
    "                                loss=modality_loss, metrics=['accuracy'])\n",
    "#define the number of the slices depending on the size of the dataset\n",
    "group = int(np.ceil(count_lines/size_part))\n",
    "\n",
    "for epoch in range(EPOCHS):\n",
    "    print(epoch)\n",
    "    for i in range(1,group+1):\n",
    "        train_s2_feats = read_data(data_info[0][\"address\"], data_info[0][\"type_data\"],\\\n",
    "                                   start_line=(i-1)*size_part,\\\n",
    "                                  end_line = i*size_part)\n",
    "        train_s1_feats = read_data(data_info[1][\"address\"], data_info[1][\"type_data\"],\\\n",
    "                                   start_line=(i-1)*size_part,\\\n",
    "                                  end_line = i*size_part)\n",
    "        train_labels = read_data(data_info[2][\"address\"], data_info[2][\"type_data\"],\\\n",
    "                                 type_save=str, start_line=(i-1)*size_part,\\\n",
    "                                end_line = i*size_part)\n",
    "\n",
    "        #this part can be changed dependeing on which data you want to test on separability\n",
    "        s1_feature_space = merged_s1_feature\n",
    "        s2_feature_space = merged_s2_feature\n",
    "\n",
    "        with tf.GradientTape() as modality :\n",
    "            dim = s1_feature_space.shape[0]\n",
    "            all_emb_s2 = tf.concat([tf.ones([dim, 1]),\n",
    "                                              tf.zeros([dim, 1])], 1)\n",
    "            all_emb_s1 = tf.concat([tf.zeros([dim, 1]),\n",
    "                                              tf.ones([dim, 1])], 1)\n",
    "\n",
    "            modality_class_loss = tf.math.reduce_mean(\n",
    "                tf.nn.softmax_cross_entropy_with_logits(\\\n",
    "                    logits=modality_classifier(s1_feature_space), labels=all_emb_s1) + \\\n",
    "                    tf.nn.softmax_cross_entropy_with_logits(\\\n",
    "                    logits=modality_classifier(s2_feature_space), labels=all_emb_s2)) \n",
    "\n",
    "            gradients_modality = modality.gradient(modality_class_loss, \n",
    "                                                   modality_classifier.trainable_variables)\n",
    "            modality_optimizer.apply_gradients(zip(gradients_modality, \n",
    "                                                   modality_classifier.trainable_variables))\n",
    "\n",
    "            modality_loss(modality_class_loss*100)"
   ]
  },
  {
   "cell_type": "code",
   "execution_count": null,
   "metadata": {
    "id": "iHgtkDAjChX8"
   },
   "outputs": [],
   "source": [
    "#testing how seperatable the modalities are\n",
    "\n",
    "dim = merged_s1_feature.shape[0]\n",
    "modality_test_list  = np.append(merged_s1_feature, \n",
    "                              merged_s2_feature)\n",
    "\n",
    "modality_test_list = modality_test_list.reshape(dim*2,-1)\n",
    "all_emb_s2 = tf.concat([tf.ones([dim, 1]),\n",
    "                                tf.zeros([dim, 1])], 1)\n",
    "all_emb_s1 = tf.concat([tf.zeros([dim, 1]),\n",
    "                                tf.ones([dim, 1])], 1)\n",
    "\n",
    "all_emb =  np.append(all_emb_s1,all_emb_s2)\n",
    "all_emb = all_emb.reshape(dim*2,-1)\n",
    "modality_classifier.evaluate(modality_test_list,all_emb)"
   ]
  },
  {
   "cell_type": "markdown",
   "metadata": {
    "id": "pAypUwDAG4fd"
   },
   "source": [
    "## Mean average precision"
   ]
  },
  {
   "cell_type": "code",
   "execution_count": null,
   "metadata": {
    "id": "H93RTMH9GzGL"
   },
   "outputs": [],
   "source": [
    "mAP(predicted_s1,\n",
    "    predicted_s2,\n",
    "    test_trans, k=10)"
   ]
  },
  {
   "cell_type": "markdown",
   "metadata": {
    "id": "FMCmngJsHvsF"
   },
   "source": [
    "## Project the modalities with modalities"
   ]
  },
  {
   "cell_type": "code",
   "execution_count": null,
   "metadata": {
    "id": "_LZoA5oTIpGL"
   },
   "outputs": [],
   "source": [
    "#show t-SNE projection of S1 modality\n",
    "project_one_modality(merged_s1_feature, test_trans)"
   ]
  },
  {
   "cell_type": "code",
   "execution_count": null,
   "metadata": {
    "id": "Rr99YjM2Hnhf"
   },
   "outputs": [],
   "source": [
    "#show t-SNE projection of S2 modality\n",
    "project_one_modality(merged_s2_feature, test_trans)"
   ]
  },
  {
   "cell_type": "code",
   "execution_count": null,
   "metadata": {
    "id": "XWYwkD67Jksr"
   },
   "outputs": [],
   "source": [
    "#show t-SNE projection for both modalities\n",
    "project_both_modalities(merged_s1_feature, \n",
    "                        merged_s2_feature, test_trans)"
   ]
  },
  {
   "cell_type": "code",
   "execution_count": null,
   "metadata": {
    "id": "Nv8M9i36J612"
   },
   "outputs": [],
   "source": [
    "#show how different modalties are blended in the common subspace\n",
    "seperaction_of_comalities(merged_s1_feature,\n",
    "                          merged_s2_feature)"
   ]
  },
  {
   "cell_type": "markdown",
   "metadata": {
    "id": "jVNbhnL9OrGR"
   },
   "source": [
    "## Matrixes"
   ]
  },
  {
   "cell_type": "markdown",
   "metadata": {
    "id": "V3IVWqGJKfLr"
   },
   "source": [
    "### Confusion matrix"
   ]
  },
  {
   "cell_type": "code",
   "execution_count": null,
   "metadata": {
    "id": "mHNToyykOSwL"
   },
   "outputs": [],
   "source": [
    "#show the confusion matrix for S1 modality\n",
    "build_confusion_matrix(predicted_s1,test_labels)"
   ]
  },
  {
   "cell_type": "code",
   "execution_count": null,
   "metadata": {
    "id": "g_mN_yx4KEk3"
   },
   "outputs": [],
   "source": [
    "#show the confusion matrix for S2 modality\n",
    "build_confusion_matrix(predicted_s2, test_labels)"
   ]
  },
  {
   "cell_type": "markdown",
   "metadata": {
    "id": "Z79c0GocKhs5"
   },
   "source": [
    "### Histogram intersection analysis"
   ]
  },
  {
   "cell_type": "code",
   "execution_count": null,
   "metadata": {
    "id": "0Q8B8QiFOmX8"
   },
   "outputs": [],
   "source": [
    "#show the matrix depicting detailed histogram intersection algorithm\n",
    "homogen_matrix(predicted_s2, predicted_s1)"
   ]
  },
  {
   "cell_type": "code",
   "execution_count": null,
   "metadata": {
    "id": "vzV74zOjPLwE"
   },
   "outputs": [],
   "source": [
    "#summarize the histogram intersection algorithm per class\n",
    "summary_homogen_matrix(predicted_s2, predicted_s1)"
   ]
  },
  {
   "cell_type": "code",
   "execution_count": null,
   "metadata": {
    "id": "loj_5ZG4PPs7"
   },
   "outputs": [],
   "source": [
    "#the detailed matrix of how many times \n",
    "#a S1 and S2 images with the same labels have one or another predicted class\n",
    "homogen_matrix_without_histogram(predicted_s2, predicted_s1)"
   ]
  },
  {
   "cell_type": "markdown",
   "metadata": {
    "id": "wopqZBcyRIUA"
   },
   "source": [
    "### Distance analysis"
   ]
  },
  {
   "cell_type": "code",
   "execution_count": null,
   "metadata": {
    "id": "kDwUMtJRRHQ5"
   },
   "outputs": [],
   "source": [
    "#show how similarity of the features of S1 modality\n",
    "show_distances_between(merged_s1_feature, merged_s1_feature,test_labels)"
   ]
  },
  {
   "cell_type": "code",
   "execution_count": null,
   "metadata": {
    "id": "4aeznZ72TCet"
   },
   "outputs": [],
   "source": [
    "#show how similarity of the features of S2 modality\n",
    "show_distances_between(merged_s2_feature, merged_s2_feature,test_labels)"
   ]
  },
  {
   "cell_type": "code",
   "execution_count": null,
   "metadata": {
    "colab": {
     "background_save": true
    },
    "id": "D1uNuhhATIDh"
   },
   "outputs": [],
   "source": [
    "#show how similarity of the features of both modalities\n",
    "full_predicted= np.append(merged_s1_feature,merged_s2_feature)\n",
    "full_predicted =full_predicted.reshape((-1,merged_s1_feature.shape[1]))\n",
    "full_test_labels = np.append(test_labels,test_labels)\n",
    "full_test_labels =full_test_labels.reshape((-1,test_labels.shape[1]))\n",
    "show_distances_between(full_predicted, full_predicted,full_test_labels)"
   ]
  }
 ],
 "metadata": {
  "colab": {
   "collapsed_sections": [
    "50t66H-5Vmbo",
    "n0CsVYxkvOsr",
    "KZf-60f9VoZa",
    "_v_YP16ozC1p"
   ],
   "machine_shape": "hm",
   "provenance": []
  },
  "gpuClass": "standard",
  "kernelspec": {
   "display_name": "Python 3 (ipykernel)",
   "language": "python",
   "name": "python3"
  },
  "language_info": {
   "codemirror_mode": {
    "name": "ipython",
    "version": 3
   },
   "file_extension": ".py",
   "mimetype": "text/x-python",
   "name": "python",
   "nbconvert_exporter": "python",
   "pygments_lexer": "ipython3",
   "version": "3.7.11"
  }
 },
 "nbformat": 4,
 "nbformat_minor": 1
}
